{
 "cells": [
  {
   "cell_type": "code",
   "execution_count": 3,
   "id": "38fae0e2-39eb-4827-858f-2bbfff696fd9",
   "metadata": {
    "tags": []
   },
   "outputs": [
    {
     "name": "stdout",
     "output_type": "stream",
     "text": [
      "vandana 21 F\n"
     ]
    }
   ],
   "source": [
    "class Student:\n",
    "    def __init__(self,nm,age,gn): #single underscore in init is for protected,double is for private and no symbol is for public\n",
    "        self.name=nm  #self is a keyword \n",
    "        self.age=age\n",
    "        self.gender=gn\n",
    "st1=Student(\"vandana\",21,'F')\n",
    "print(st1.name,st1.age,st1.gender)\n",
    "\n",
    "        \n",
    "        "
   ]
  },
  {
   "cell_type": "code",
   "execution_count": 5,
   "id": "2bf66ebc-dbe3-4bfc-8fc8-cc23f400ab31",
   "metadata": {
    "tags": []
   },
   "outputs": [
    {
     "name": "stdin",
     "output_type": "stream",
     "text": [
      "enter your name: vandana\n",
      "enter your age 21\n",
      "enter your gender Female\n"
     ]
    },
    {
     "name": "stdout",
     "output_type": "stream",
     "text": [
      "vandana 21 F\n"
     ]
    }
   ],
   "source": [
    "class Student:\n",
    "    def __init__(self):\n",
    "        self.name=None\n",
    "        self.age=None\n",
    "        self.gender=None\n",
    "st2=Student()\n",
    "st2.name=input(\"enter your name:\")\n",
    "st2.age=input(\"enter your age\")\n",
    "st2.gender=input(\"enter your gender\")\n",
    "print(st2.name,st2.age,st2.gender)"
   ]
  },
  {
   "cell_type": "code",
   "execution_count": 9,
   "id": "df581110-fe45-432e-ac1e-3cc88d1a39d9",
   "metadata": {
    "tags": []
   },
   "outputs": [
    {
     "name": "stdin",
     "output_type": "stream",
     "text": [
      "enter your name: vandu\n",
      "enter your age 22\n",
      "enter your gender f\n"
     ]
    },
    {
     "name": "stdout",
     "output_type": "stream",
     "text": [
      "vandu 22 f\n"
     ]
    }
   ],
   "source": [
    "class Student:\n",
    "    def __init__(self,nm,age,gn):\n",
    "        self.name=nm\n",
    "        self.age=age\n",
    "        self.gender=gn\n",
    "\n",
    "a=input(\"enter your name:\")\n",
    "b=input(\"enter your age\")\n",
    "c=input(\"enter your gender\")\n",
    "st3=Student(a,b,c)\n",
    "print(st3.name,st3.age,st3.gender)\n"
   ]
  },
  {
   "cell_type": "code",
   "execution_count": 15,
   "id": "67b7aa43-e2d0-47e5-8880-48432192e6e7",
   "metadata": {
    "tags": []
   },
   "outputs": [
    {
     "name": "stdout",
     "output_type": "stream",
     "text": [
      "<class 'str'>\n"
     ]
    }
   ],
   "source": [
    "a=\n",
    "print(type(a))"
   ]
  },
  {
   "cell_type": "code",
   "execution_count": 20,
   "id": "a672b5b5-72fc-498a-af3a-9909ab8b5966",
   "metadata": {
    "tags": []
   },
   "outputs": [
    {
     "name": "stdout",
     "output_type": "stream",
     "text": [
      "2\n",
      "5\n",
      "None\n"
     ]
    }
   ],
   "source": [
    "class A:\n",
    "    def __init__(self,a,b):\n",
    "        self.A=a\n",
    "        self.__B=b\n",
    "    def printB(self):\n",
    "        print(self.__B)\n",
    "ob1=A(2,5)\n",
    "print(ob1.A)\n",
    "print(ob1.printB())\n",
    "              "
   ]
  },
  {
   "cell_type": "markdown",
   "id": "85163dc0-edee-49be-bcf8-74a61ef62c6b",
   "metadata": {
    "tags": []
   },
   "source": [
    "class Student:\n",
    "    def __init__(self):\n",
    "        self.name=None\n",
    "        self.usn=None\n",
    "        self.maths=None\n",
    "        self.chem=None\n",
    "        self.Phy=None\n",
    "        self.eng=None\n",
    "        self.kan=None\n",
    "        self.percentage=None\n",
    "        self.grade=None\n",
    "stu=Student()\n",
    "stu.name=input(\"enter the name\")\n",
    "stu.usn=input(\"enter the usn\")\n",
    "stu.maths=int(input(\"enter maths marks\"))\n",
    "stu.chem=int(input(\"enter chem marks\"))\n",
    "stu.Phy=int(input(\"enter phy marks\"))\n",
    "stu.eng=int(input(\"enter eng marks\"))\n",
    "stu.kan=int(input(\"enter kannada marks\"))\n",
    "stu.h=(((stu.maths+stu.chem+stu.Phy+stu.eng+stu.kan)/500)*100)\n",
    "print(\"percentage is:\",stu.h)\n",
    "if stu.h>70:\n",
    "    print(\"A grade\")\n",
    "else:\n",
    "    print(\"B grade\")\n",
    "print(stu.name,stu.usn,stu.maths,stu.chem,stu.Phy,stu.eng,stu.kan,stu.h,stu.grade)\n"
   ]
  },
  {
   "cell_type": "markdown",
   "id": "d90d0399-0f64-442b-abba-c8eefe918a31",
   "metadata": {
    "tags": []
   },
   "source": [
    "class Student:\n",
    "    def __init__(self):\n",
    "        self.name=None\n",
    "        self.usn=None\n",
    "        self.maths=None\n",
    "        self.chem=None\n",
    "        self.Phy=None\n",
    "        self.eng=None\n",
    "        self.kan=None\n",
    "        self.percentage=None\n",
    "        self.grade=None\n",
    "stu=Student()\n",
    "stu.name=input(\"enter the name\")\n",
    "stu.usn=input(\"enter the usn\")\n",
    "stu.maths=int(input(\"enter maths marks\"))\n",
    "stu.chem=int(input(\"enter chem marks\"))\n",
    "stu.Phy=int(input(\"enter phy marks\"))\n",
    "stu.eng=int(input(\"enter eng marks\"))\n",
    "stu.kan=int(input(\"enter kannada marks\"))\n",
    "stu.h=(((stu.maths+stu.chem+stu.Phy+stu.eng+stu.kan)/500)*100)\n",
    "print(\"percentage is:\",stu.h)\n",
    "if stu.h>70:\n",
    "    print(\"A grade\")\n",
    "else:\n",
    "    print(\"B grade\")\n",
    "print(stu.name,stu.usn,stu.maths,stu.chem,stu.Phy,stu.eng,stu.kan,stu.h,stu.grade)\n"
   ]
  },
  {
   "cell_type": "code",
   "execution_count": 7,
   "id": "cdb81dd8-d2b5-4959-a7e7-df2dcbf21d43",
   "metadata": {},
   "outputs": [
    {
     "name": "stdout",
     "output_type": "stream",
     "text": [
      "<class '__main__.std'>\n",
      "enter your name:fg\n",
      "enter your USN:dfghjkl;09876\n",
      "enter your marks56\n",
      "enter your marks87\n",
      "enter your marks98\n",
      "enter your marks43\n",
      "enter your marks56\n",
      "name:fg\n",
      "USN:dfghjkl;09876\n",
      "marks in five subject are:\n",
      "subject 1 = 56\n",
      "subject 2 = 87\n",
      "subject 3 = 98\n",
      "subject 4 = 43\n",
      "subject 5 = 56\n"
     ]
    },
    {
     "ename": "TypeError",
     "evalue": "can only concatenate str (not \"float\") to str",
     "output_type": "error",
     "traceback": [
      "\u001b[1;31m---------------------------------------------------------------------------\u001b[0m",
      "\u001b[1;31mTypeError\u001b[0m                                 Traceback (most recent call last)",
      "Cell \u001b[1;32mIn[7], line 61\u001b[0m\n\u001b[0;32m     59\u001b[0m st1\u001b[38;5;241m.\u001b[39mcalc_percentage()\n\u001b[0;32m     60\u001b[0m st1\u001b[38;5;241m.\u001b[39mcalc_grade()\n\u001b[1;32m---> 61\u001b[0m st1\u001b[38;5;241m.\u001b[39mprint_details()\n",
      "Cell \u001b[1;32mIn[7], line 42\u001b[0m, in \u001b[0;36mstd.print_details\u001b[1;34m(self)\u001b[0m\n\u001b[0;32m     40\u001b[0m \u001b[38;5;28;01mfor\u001b[39;00m i \u001b[38;5;129;01min\u001b[39;00m \u001b[38;5;28mrange\u001b[39m(\u001b[38;5;241m0\u001b[39m,\u001b[38;5;241m5\u001b[39m):\n\u001b[0;32m     41\u001b[0m     \u001b[38;5;28mprint\u001b[39m(\u001b[38;5;124mf\u001b[39m\u001b[38;5;124m\"\u001b[39m\u001b[38;5;124msubject \u001b[39m\u001b[38;5;132;01m{\u001b[39;00mi\u001b[38;5;241m+\u001b[39m\u001b[38;5;241m1\u001b[39m\u001b[38;5;132;01m}\u001b[39;00m\u001b[38;5;124m = \u001b[39m\u001b[38;5;132;01m{\u001b[39;00m\u001b[38;5;28mself\u001b[39m\u001b[38;5;241m.\u001b[39mmarks[i]\u001b[38;5;132;01m}\u001b[39;00m\u001b[38;5;124m\"\u001b[39m)\n\u001b[1;32m---> 42\u001b[0m \u001b[38;5;28mprint\u001b[39m(\u001b[38;5;124m\"\u001b[39m\u001b[38;5;124mpercentage:\u001b[39m\u001b[38;5;124m\"\u001b[39m\u001b[38;5;241m+\u001b[39m\u001b[38;5;28mself\u001b[39m\u001b[38;5;241m.\u001b[39mpercentage)\n\u001b[0;32m     43\u001b[0m \u001b[38;5;28mprint\u001b[39m(\u001b[38;5;124m\"\u001b[39m\u001b[38;5;124mgrade\u001b[39m\u001b[38;5;124m\"\u001b[39m\u001b[38;5;241m+\u001b[39m\u001b[38;5;28mself\u001b[39m\u001b[38;5;241m.\u001b[39mgrade)\n",
      "\u001b[1;31mTypeError\u001b[0m: can only concatenate str (not \"float\") to str"
     ]
    }
   ],
   "source": [
    "class std:\n",
    "    def __init__(self):\n",
    "        self.usn=None\n",
    "        self.name=None\n",
    "        self.marks=[]\n",
    "        self.percentage=None\n",
    "        self.grade=None\n",
    "        \n",
    "    def std_input(self):\n",
    "        self.name=input(\"enter your name:\")\n",
    "        self.usn=input(\"enter your USN:\")\n",
    "        for i in range(0,5):\n",
    "            marks=input(\"enter your marks\")\n",
    "            self.marks.append(marks)\n",
    "        \n",
    "    \n",
    "    def calc_percentage(self):\n",
    "        sum=0\n",
    "        for i in self.marks:\n",
    "            sum=sum+int(i)\n",
    "        self.percentage=(sum/500)*100\n",
    "        \n",
    "    def calc_grade(self):\n",
    "        per=float(self.percentage)\n",
    "        if per<=100 and per>=80:\n",
    "            self.grade=\"A\"\n",
    "        elif per<80 and per>=60:\n",
    "            self.grade=\"B\"\n",
    "        elif per<60 and per>=40:\n",
    "            self.grade=\"C\"\n",
    "        elif per<40 and per>=0:\n",
    "            self.grade=\"D\"\n",
    "        else:\n",
    "            self.grade=\"invalid\"\n",
    "            \n",
    "    def print_details(self):\n",
    "        print(\"name:\"+self.name)\n",
    "        print(\"USN:\"+self.usn)\n",
    "        print(\"marks in five subject are:\")\n",
    "        for i in range(0,5):\n",
    "            print(f\"subject {i+1} = {self.marks[i]}\")\n",
    "        print(\"percentage:\"+self.percentage)\n",
    "        print(\"grade\"+self.grade)\n",
    "        \n",
    "    def convet_list(self):\n",
    "        st_list=[self.usn,self.name.self.marks,self.percentage,self.grade]\n",
    "        return st_list\n",
    "    \n",
    "    def convert_ob(self,stu_list):\n",
    "        self.usn=stu_list[0]\n",
    "        self.name=stu_list[1]\n",
    "        self.marks=stu_lis[2]\n",
    "        self.percentage=stu_list[3]\n",
    "        self.grade=stu_list[4]\n",
    "\n",
    "st1=std()\n",
    "print(type(st1))\n",
    "st1.std_input()\n",
    "st1.calc_percentage()\n",
    "st1.calc_grade()\n",
    "st1.print_details()\n",
    "        \n",
    "        "
   ]
  },
  {
   "cell_type": "code",
   "execution_count": 1,
   "id": "8a75e46f",
   "metadata": {
    "tags": []
   },
   "outputs": [
    {
     "name": "stdout",
     "output_type": "stream",
     "text": [
      "<class '__main__.Std'>\n"
     ]
    },
    {
     "name": "stdin",
     "output_type": "stream",
     "text": [
      "Enter your Name:  Vandana \n",
      "Enter Your USN:  3BR21CS1180\n",
      "Enter Your Marks in Sub1 :  67\n",
      "Enter Your Marks in Sub2 :  98\n",
      "Enter Your Marks in Sub3 :  65\n",
      "Enter Your Marks in Sub4 :  89\n",
      "Enter Your Marks in Sub5 :  69\n"
     ]
    },
    {
     "name": "stdout",
     "output_type": "stream",
     "text": [
      "Name:  Vandana \n",
      "USN :  3BR21CS1180\n",
      "Marks in Five Subject are :\n",
      "Subject 1 = 67\n",
      "Subject 2 = 98\n",
      "Subject 3 = 65\n",
      "Subject 4 = 89\n",
      "Subject 5 = 69\n",
      "Percentage :  77.60000000000001\n",
      "Grade :  B\n"
     ]
    }
   ],
   "source": [
    "#creating a student object with name usn and marks of 5 subjects with percentage and grade\n",
    "\n",
    "class Std:\n",
    "    def __init__(self): \n",
    "        self.__USN = None\n",
    "        self.__Name = None\n",
    "        self.__Marks = []\n",
    "        self.__Percentage = None\n",
    "        self.__Grade = None\n",
    "\n",
    "    def Std_Input(self):\n",
    "        self.__Name = input(\"Enter your Name: \")\n",
    "        self.__USN = input(\"Enter Your USN: \")\n",
    "        for i in range (0,5):\n",
    "            marks = input(f\"Enter Your Marks in Sub{i+1} : \")\n",
    "            self.__Marks.append(marks)\n",
    "\n",
    "    def calc_percentage (self):\n",
    "        sum = 0\n",
    "        for i in self.__Marks:\n",
    "            sum = sum + int(i)\n",
    "        self.__Percentage = (sum/500)*100\n",
    "\n",
    "    def calc_Grade(self):\n",
    "        per = float(self.__Percentage)\n",
    "        if per<=100 and per >=80:\n",
    "            self.__Grade = \"A\"\n",
    "        elif per<80 and per >=60:\n",
    "            self.__Grade = \"B\"\n",
    "        elif per<60 and per >=40:\n",
    "            self.__Grade = \"C\"\n",
    "        elif per<40 and per >=0:\n",
    "            self.__Grade = \"D\"\n",
    "        else: \n",
    "            self.__Grade = \"Inavlid\"\n",
    "\n",
    "    def print_details(self):\n",
    "        print(\"Name: \",self.__Name)\n",
    "        print(\"USN : \",self.__USN)\n",
    "        print(\"Marks in Five Subject are :\")\n",
    "        for i in range(0,5):\n",
    "            print(f\"Subject {i+1} = {self.__Marks[i]}\")\n",
    "        print(\"Percentage : \", self.__Percentage)\n",
    "        print(\"Grade : \", self.__Grade)\n",
    "\n",
    "    def convert_list(self):\n",
    "        st_list = [self.__USN,self.__Name,self.__Marks,self.__Percentage,self.__Grade]\n",
    "        return st_list\n",
    "\n",
    "    def covert_ob(self,stu_list):\n",
    "        self.__USN = stu_list[0]\n",
    "        self.__Name = stu_list[1]\n",
    "        self.__Marks = stu_list[2]\n",
    "        self.__Percentage = stu_list[3]\n",
    "        self.__Grade = stu_list[4]\n",
    "\n",
    "\n",
    "\n",
    "st1 = Std()\n",
    "\n",
    "print(type(st1))\n",
    "\n",
    "st1.Std_Input()\n",
    "\n",
    "st1.calc_percentage()\n",
    "st1.calc_Grade()\n",
    "\n",
    "st1.print_details()"
   ]
  },
  {
   "cell_type": "code",
   "execution_count": 1,
   "id": "a00ecc23",
   "metadata": {
    "tags": []
   },
   "outputs": [
    {
     "ename": "NameError",
     "evalue": "name 'st1' is not defined",
     "output_type": "error",
     "traceback": [
      "\u001b[1;31m---------------------------------------------------------------------------\u001b[0m",
      "\u001b[1;31mNameError\u001b[0m                                 Traceback (most recent call last)",
      "Cell \u001b[1;32mIn[1], line 2\u001b[0m\n\u001b[0;32m      1\u001b[0m \u001b[38;5;28;01mwith\u001b[39;00m \u001b[38;5;28mopen\u001b[39m(\u001b[38;5;124m\"\u001b[39m\u001b[38;5;124mstudent.txt\u001b[39m\u001b[38;5;124m\"\u001b[39m,\u001b[38;5;124m'\u001b[39m\u001b[38;5;124mwb\u001b[39m\u001b[38;5;124m'\u001b[39m) \u001b[38;5;28;01mas\u001b[39;00m File:\n\u001b[1;32m----> 2\u001b[0m     L\u001b[38;5;241m=\u001b[39mst1\u001b[38;5;241m.\u001b[39mconvert_list()\n\u001b[0;32m      3\u001b[0m     data \u001b[38;5;241m=\u001b[39m \u001b[38;5;124mf\u001b[39m\u001b[38;5;124m\"\u001b[39m\u001b[38;5;132;01m{\u001b[39;00mL[\u001b[38;5;241m0\u001b[39m]\u001b[38;5;132;01m}\u001b[39;00m\u001b[38;5;124m|\u001b[39m\u001b[38;5;132;01m{\u001b[39;00mL[\u001b[38;5;241m1\u001b[39m]\u001b[38;5;132;01m}\u001b[39;00m\u001b[38;5;124m|\u001b[39m\u001b[38;5;132;01m{\u001b[39;00mL[\u001b[38;5;241m2\u001b[39m][\u001b[38;5;241m0\u001b[39m]\u001b[38;5;132;01m}\u001b[39;00m\u001b[38;5;124m,\u001b[39m\u001b[38;5;132;01m{\u001b[39;00mL[\u001b[38;5;241m2\u001b[39m][\u001b[38;5;241m1\u001b[39m]\u001b[38;5;132;01m}\u001b[39;00m\u001b[38;5;124m,\u001b[39m\u001b[38;5;132;01m{\u001b[39;00mL[\u001b[38;5;241m2\u001b[39m][\u001b[38;5;241m2\u001b[39m]\u001b[38;5;132;01m}\u001b[39;00m\u001b[38;5;124m,\u001b[39m\u001b[38;5;132;01m{\u001b[39;00mL[\u001b[38;5;241m2\u001b[39m][\u001b[38;5;241m3\u001b[39m]\u001b[38;5;132;01m}\u001b[39;00m\u001b[38;5;124m,\u001b[39m\u001b[38;5;132;01m{\u001b[39;00mL[\u001b[38;5;241m2\u001b[39m][\u001b[38;5;241m4\u001b[39m]\u001b[38;5;132;01m}\u001b[39;00m\u001b[38;5;124m|\u001b[39m\u001b[38;5;132;01m{\u001b[39;00mL[\u001b[38;5;241m3\u001b[39m]\u001b[38;5;132;01m}\u001b[39;00m\u001b[38;5;124m|\u001b[39m\u001b[38;5;132;01m{\u001b[39;00mL[\u001b[38;5;241m4\u001b[39m]\u001b[38;5;132;01m}\u001b[39;00m\u001b[38;5;130;01m\\n\u001b[39;00m\u001b[38;5;124m\"\u001b[39m\n\u001b[0;32m      4\u001b[0m     File\u001b[38;5;241m.\u001b[39mwrite(data\u001b[38;5;241m.\u001b[39mencode())\n",
      "\u001b[1;31mNameError\u001b[0m: name 'st1' is not defined"
     ]
    }
   ],
   "source": [
    "with open(\"student.txt\",'wb') as File:\n",
    "    L=st1.convert_list()\n",
    "    data = f\"{L[0]}|{L[1]}|{L[2][0]},{L[2][1]},{L[2][2]},{L[2][3]},{L[2][4]}|{L[3]}|{L[4]}\\n\"\n",
    "    File.write(data.encode())\n",
    "    File.close()"
   ]
  },
  {
   "cell_type": "code",
   "execution_count": 3,
   "id": "a65bd434-f449-4834-8d4a-5f10711d9233",
   "metadata": {
    "tags": []
   },
   "outputs": [
    {
     "name": "stdout",
     "output_type": "stream",
     "text": [
      "3BR21CS1180|Vandana |67,98,65,89,69|77.60000000000001|B\n",
      "\n",
      "['3BR21CS1180', 'Vandana ', ['67', '98', '65', '89', '69'], '77.60000000000001', 'B\\n']\n",
      "Name:  Vandana \n",
      "USN :  3BR21CS1180\n",
      "Marks in Five Subject are :\n",
      "Subject 1 = 67\n",
      "Subject 2 = 98\n",
      "Subject 3 = 65\n",
      "Subject 4 = 89\n",
      "Subject 5 = 69\n",
      "Percentage :  77.60000000000001\n",
      "Grade :  B\n",
      "\n"
     ]
    }
   ],
   "source": [
    "stu_list=[]\n",
    "\n",
    "with open(\"student.txt\",'rb') as File:\n",
    "    data = File.readline().decode('utf-8')\n",
    "    print(data)\n",
    "    for i in data.split(\"|\"):\n",
    "        stu_list.append(i)\n",
    "    mrks=stu_list[2]\n",
    "    mrks_list = []\n",
    "    for i in mrks.split(','):\n",
    "        mrks_list.append(i)\n",
    "    stu_list[2]=mrks_list\n",
    "\n",
    "\n",
    "print(stu_list)\n",
    "st2=Std()\n",
    "st2.covert_ob(stu_list)\n",
    "st2.print_details()"
   ]
  },
  {
   "cell_type": "code",
   "execution_count": null,
   "id": "a2e6381b-f8a6-4cb8-aa08-e1e7928ab8f1",
   "metadata": {},
   "outputs": [],
   "source": []
  }
 ],
 "metadata": {
  "kernelspec": {
   "display_name": "Python 3 (ipykernel)",
   "language": "python",
   "name": "python3"
  },
  "language_info": {
   "codemirror_mode": {
    "name": "ipython",
    "version": 3
   },
   "file_extension": ".py",
   "mimetype": "text/x-python",
   "name": "python",
   "nbconvert_exporter": "python",
   "pygments_lexer": "ipython3",
   "version": "3.11.5"
  }
 },
 "nbformat": 4,
 "nbformat_minor": 5
}
