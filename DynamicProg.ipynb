{
 "cells": [
  {
   "cell_type": "code",
   "execution_count": 2,
   "id": "6042f4cf-24bf-42de-87c0-2c031d5474cd",
   "metadata": {
    "tags": []
   },
   "outputs": [
    {
     "name": "stdout",
     "output_type": "stream",
     "text": [
      "[1, 3, 5, 8]\n",
      "[4, 4, 8, 10]\n",
      "[5, 9, 11, 13]\n",
      "[6, 8, 9, 10]\n"
     ]
    }
   ],
   "source": [
    "#Tabulation (Dynamic Programming)\n",
    "mapp = [\n",
    "    [1, 2, 2, 3],\n",
    "    [3, 1, 4, 2],\n",
    "    [1, 5, 3, 3],\n",
    "    [1, 2, 1, 1]\n",
    "]\n",
    "\n",
    "# Initialize dp array with the same dimensions as mapp\n",
    "dp = [[False] * 4 for _ in range(4)]\n",
    "\n",
    "# Set the starting point\n",
    "dp[0][0] = mapp[0][0]\n",
    "\n",
    "# Fill the first row\n",
    "for i in range(1, len(mapp[0])):\n",
    "    dp[0][i] = dp[0][i - 1] + mapp[0][i]\n",
    "\n",
    "# Fill the first column\n",
    "for j in range(1, len(mapp)):\n",
    "    dp[j][0] = dp[j - 1][0] + mapp[j][0]\n",
    "\n",
    "# Fill the rest of the dp table\n",
    "for i in range(1, len(mapp)):\n",
    "    for j in range(1, len(mapp[0])):  # Corrected from len(mapp) to len(mapp[0])\n",
    "        dp[i][j] = min(dp[i - 1][j], dp[i][j - 1]) + mapp[i][j]\n",
    "\n",
    "# Print the dp table\n",
    "for row in dp:\n",
    "    print(row)\n"
   ]
  },
  {
   "cell_type": "code",
   "execution_count": 4,
   "id": "26cf1eab-ddc4-4a7e-89b4-b65503f6a844",
   "metadata": {
    "tags": []
   },
   "outputs": [
    {
     "name": "stdout",
     "output_type": "stream",
     "text": [
      "1\n",
      "2\n",
      "1\n",
      "4\n",
      "2\n",
      "3\n",
      "1\n",
      "Total minimum cost: 14\n"
     ]
    }
   ],
   "source": [
    "#find the minimum cost using greedy method , only move right and down\n",
    "\n",
    "\n",
    "path = [\n",
    "  [1, 2, 2, 3],\n",
    "  [3, 1, 4, 2],\n",
    "  [1, 5, 3, 3],\n",
    "  [1, 2, 4, 1]\n",
    "]\n",
    "\n",
    "n = len(path) - 1\n",
    "m = len(path[0]) - 1\n",
    "start = path[0][0]\n",
    "i = 0\n",
    "j = 0\n",
    "print(start)\n",
    "total_sum = start\n",
    "\n",
    "while i < n and j < m:\n",
    "    if path[i][j + 1] < path[i + 1][j]:\n",
    "        j += 1\n",
    "        print(path[i][j])\n",
    "        total_sum += path[i][j]\n",
    "    else:\n",
    "        i += 1\n",
    "        print(path[i][j])\n",
    "        total_sum += path[i][j]\n",
    "\n",
    "# If we reach the bottom row, we can only move right\n",
    "if i == n:\n",
    "    while j < m:\n",
    "        j += 1\n",
    "        print(path[i][j])\n",
    "        total_sum += path[i][j]\n",
    "# If we reach the rightmost column, we can only move down\n",
    "elif j == m:\n",
    "    while i < n:\n",
    "        i += 1\n",
    "        print(path[i][j])\n",
    "        total_sum += path[i][j]\n",
    "\n",
    "print(\"Total minimum cost:\", total_sum)\n"
   ]
  },
  {
   "cell_type": "code",
   "execution_count": null,
   "id": "689bae1c-7732-4f9b-9e09-070e969bf012",
   "metadata": {},
   "outputs": [],
   "source": []
  }
 ],
 "metadata": {
  "kernelspec": {
   "display_name": "Python 3 (ipykernel)",
   "language": "python",
   "name": "python3"
  },
  "language_info": {
   "codemirror_mode": {
    "name": "ipython",
    "version": 3
   },
   "file_extension": ".py",
   "mimetype": "text/x-python",
   "name": "python",
   "nbconvert_exporter": "python",
   "pygments_lexer": "ipython3",
   "version": "3.11.5"
  }
 },
 "nbformat": 4,
 "nbformat_minor": 5
}
