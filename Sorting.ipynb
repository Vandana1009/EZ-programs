{
 "cells": [
  {
   "cell_type": "code",
   "execution_count": 8,
   "id": "d524304a-40d4-42c0-a530-71ae272e7236",
   "metadata": {
    "tags": []
   },
   "outputs": [
    {
     "name": "stdin",
     "output_type": "stream",
     "text": [
      " 10 26 15 4 7 \n"
     ]
    },
    {
     "name": "stdout",
     "output_type": "stream",
     "text": [
      "[4, 7, 10, 15, 26]\n",
      "4\n",
      "26\n",
      "62\n"
     ]
    }
   ],
   "source": [
    "#bubble sort\n",
    "l=list(map(int,input().split()))\n",
    "n=len(l)\n",
    "for j in range(0,n):\n",
    "        for i in range(0,n-1-j):\n",
    "            if l[i]>l[i+1]:\n",
    "                l[i],l[i+1]=l[i+1],l[i]\n",
    "    \n",
    "print(l)\n",
    "print(min(l))\n",
    "print(max(l))\n",
    "print(sum(l))"
   ]
  },
  {
   "cell_type": "code",
   "execution_count": 15,
   "id": "457176a7-3ed1-4c80-906a-97a5c358b1d8",
   "metadata": {
    "tags": []
   },
   "outputs": [
    {
     "name": "stdin",
     "output_type": "stream",
     "text": [
      " 10 40 50 20 60\n"
     ]
    },
    {
     "name": "stdout",
     "output_type": "stream",
     "text": [
      "[10, 20, 40, 50, 60]\n"
     ]
    }
   ],
   "source": [
    "#selection sort\n",
    "l=list(map(int,input().split()))\n",
    "for j in range(0,n):\n",
    "    min=l[j]\n",
    "    pos=j\n",
    "\n",
    "    for i in range(j,n):\n",
    "        if l[i]<min:\n",
    "            min=l[i]\n",
    "            pos=i\n",
    "            l[j],l[pos]=l[pos],l[j]\n",
    "print(l)\n",
    "\n",
    "         \n",
    "        \n",
    "    \n",
    "       \n"
   ]
  },
  {
   "cell_type": "code",
   "execution_count": null,
   "id": "b4b615a7-dfaa-475b-9b4a-be039a611b24",
   "metadata": {},
   "outputs": [],
   "source": [
    "#insertion sort\n",
    "\n",
    "arr = list(map(int, input(\"Enter the numbers separated by spaces: \").split()))\n",
    "\n",
    "\n",
    "for i in range(1, len(arr)):\n",
    "    key = arr[i]\n",
    "   \n",
    "    j = i - 1\n",
    "    while j >= 0 and key < arr[j]:\n",
    "        arr[j + 1] = arr[j]\n",
    "        j -= 1\n",
    "    arr[j + 1] = key\n",
    "\n",
    "\n",
    "print(\"Sorted array is:\", arr)\n"
   ]
  },
  {
   "cell_type": "code",
   "execution_count": 1,
   "id": "3933581a-60d4-4174-936e-64be3b52c0b7",
   "metadata": {
    "tags": []
   },
   "outputs": [
    {
     "name": "stdin",
     "output_type": "stream",
     "text": [
      " 1 2 5 7 6 8 9 3 5 \n",
      " 1 \n"
     ]
    },
    {
     "name": "stdout",
     "output_type": "stream",
     "text": [
      "sorted array= [1]\n"
     ]
    }
   ],
   "source": [
    "#quick sort\n",
    "l=list(map(int,input().split()))\n",
    "def divide(l,low,high):\n",
    "    p=l[high]\n",
    "    pi=high\n",
    "    j=low-1\n",
    "    for i in range(0,high):\n",
    "        if l[i]<=p:\n",
    "            j+=1\n",
    "            l[i],l[j]=l[j],l[i]\n",
    "    j+=1\n",
    "    l[j],l[pi]=l[pi],l[j]\n",
    "    pi=j\n",
    "    return pi\n",
    "def quick_sort(l,low,high):\n",
    "    if low<high:\n",
    "        pi=divide(l,low,high)\n",
    "        quick_sort(l,low,pi-1)\n",
    "        quick_sort(l,pi+1,high)\n",
    "    return\n",
    "\n",
    "if __name__==\"__main__\":\n",
    "    l=list(map(int,input().split()))\n",
    "    quick_sort(l,0,len(l)-1)\n",
    "    print(\"sorted array=\",l)"
   ]
  },
  {
   "cell_type": "code",
   "execution_count": null,
   "id": "3bfe32b8-8894-4ae8-a82f-b20b8fb32db2",
   "metadata": {},
   "outputs": [],
   "source": []
  }
 ],
 "metadata": {
  "kernelspec": {
   "display_name": "Python 3 (ipykernel)",
   "language": "python",
   "name": "python3"
  },
  "language_info": {
   "codemirror_mode": {
    "name": "ipython",
    "version": 3
   },
   "file_extension": ".py",
   "mimetype": "text/x-python",
   "name": "python",
   "nbconvert_exporter": "python",
   "pygments_lexer": "ipython3",
   "version": "3.11.5"
  }
 },
 "nbformat": 4,
 "nbformat_minor": 5
}
