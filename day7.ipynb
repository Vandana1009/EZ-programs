{
 "cells": [
  {
   "cell_type": "code",
   "execution_count": 6,
   "id": "e857a703-b044-4948-a0b8-f833982d2624",
   "metadata": {
    "tags": []
   },
   "outputs": [
    {
     "name": "stdout",
     "output_type": "stream",
     "text": [
      "[10, 20, 30, 40, 50]\n",
      "50\n",
      "[10, 20, 30, 40]\n",
      "40\n",
      "3\n"
     ]
    }
   ],
   "source": [
    "#stack concept\n",
    "\n",
    "class Stack():\n",
    "    def __init__(self):\n",
    "        self.items=[]\n",
    "    \n",
    "    def push(self,data):\n",
    "        self.items.append(data)\n",
    "    \n",
    "    def pop(self):\n",
    "        return self.items.pop()\n",
    "        \n",
    "    def size(self):\n",
    "        return len(self.items)\n",
    "s=Stack()\n",
    "s.push(10)\n",
    "s.push(20)\n",
    "s.push(30)\n",
    "s.push(40)\n",
    "s.push(50)\n",
    "print(s.items)\n",
    "print(s.pop())\n",
    "print(s.items)\n",
    "print(s.pop())\n",
    "print(s.size())"
   ]
  },
  {
   "cell_type": "code",
   "execution_count": 2,
   "id": "294a13e7-18bb-40a6-919b-708f5c3e24ae",
   "metadata": {
    "tags": []
   },
   "outputs": [
    {
     "name": "stdin",
     "output_type": "stream",
     "text": [
      "enter the exp [3+7{52/11(3+5)}]\n"
     ]
    },
    {
     "name": "stdout",
     "output_type": "stream",
     "text": [
      "invalid\n"
     ]
    }
   ],
   "source": [
    "#parenthises checker\n",
    "class Stack():\n",
    "    def __init__(self):\n",
    "        self.items=[]\n",
    "    \n",
    "    def push(self,data):\n",
    "        self.items.append(data)\n",
    "    \n",
    "    def pop(self):\n",
    "        return self.items.pop()\n",
    "        \n",
    "    def size(self):\n",
    "        return len(self.items)\n",
    "e=input(\"enter the exp\")\n",
    "s=Stack()\n",
    "ob=\"[{(\"\n",
    "cb=\")}]\"\n",
    "flag=0\n",
    "for i in e:\n",
    "    if i in ob:\n",
    "        s.push(i)\n",
    "    if i in cb:\n",
    "        x=s.pop()\n",
    "        if x==\"(\" and i==\")\":\n",
    "            pass\n",
    "        elif x==\"{\" and i==\"}\":\n",
    "            pass\n",
    "        elif x==\"[\" and i==\"]\":\n",
    "            pass\n",
    "        else:\n",
    "            flag=1\n",
    "            break\n",
    "if flag==0 and s.items==0:\n",
    "    print(\"valid\")\n",
    "else:\n",
    "    print(\"invalid\")\n",
    "    \n",
    "           # [3+7{52/11(3+5)}]"
   ]
  },
  {
   "cell_type": "code",
   "execution_count": 2,
   "id": "60bf611b-3fc5-4545-aa84-4e4ce2e12964",
   "metadata": {},
   "outputs": [
    {
     "name": "stdout",
     "output_type": "stream",
     "text": [
      "[5, 14, 14, -1, 7, 7, 9, -1, 6, 9, -1, 5, 5, -1, -1]\n"
     ]
    }
   ],
   "source": [
    "class Stack():\n",
    "    def __init__(self):\n",
    "        self.items=[]\n",
    "        \n",
    "    def push(self,data):\n",
    "        self.items.append(data)\n",
    "    \n",
    "    def pop(self):\n",
    "        return self.items.pop()\n",
    "        \n",
    "    def size(self):\n",
    "        return len(self.items)\n",
    "    \n",
    "    def top(self):\n",
    "        return self.items[-1]\n",
    "    \n",
    "l=[3,5,2,14,5,3,7,9,4,6,9,4,2,5,3]\n",
    "o=[0]*len(l)\n",
    "s=Stack()\n",
    "for i in range(len(l)-1,-1,-1):\n",
    "    while s.size() !=0 and s.top() <= l[i]:\n",
    "        if s.top() <= l[i]:\n",
    "            s.pop()\n",
    "            \n",
    "    if s.size()==0:\n",
    "        o[i]=-1\n",
    "    else:\n",
    "        o[i]=s.top()\n",
    "    s.push(l[i])\n",
    "print(o)  "
   ]
  },
  {
   "cell_type": "code",
   "execution_count": 3,
   "id": "46fc616d-bedf-4719-bb4d-38f45a92e773",
   "metadata": {
    "tags": []
   },
   "outputs": [
    {
     "name": "stdout",
     "output_type": "stream",
     "text": [
      "[10, 20, 30, 40, 50]\n",
      "10\n",
      "[20, 30, 40, 50]\n",
      "20\n",
      "3\n"
     ]
    }
   ],
   "source": [
    "#queue concept\n",
    "class Queue:\n",
    "    def __init__(self):\n",
    "        self.item=[]\n",
    "        \n",
    "    def push(self,data):\n",
    "        self.item.append(data)\n",
    "    \n",
    "    def pop(self):\n",
    "        return self.item.pop(0)\n",
    "        \n",
    "    def size(self):\n",
    "        return len(self.item)\n",
    "q=Queue()\n",
    "q.push(10)\n",
    "q.push(20)\n",
    "q.push(30)\n",
    "q.push(40)\n",
    "q.push(50)\n",
    "print(q.item)\n",
    "print(q.pop())\n",
    "print(q.item)\n",
    "print(q.pop())\n",
    "print(q.size())\n"
   ]
  },
  {
   "cell_type": "code",
   "execution_count": 13,
   "id": "38b78fdf-1b3a-4d33-aa3a-d4586726a048",
   "metadata": {
    "tags": []
   },
   "outputs": [
    {
     "name": "stdout",
     "output_type": "stream",
     "text": [
      "<__main__.node object at 0x000001E1AED5FB50>\n",
      "<__main__.node object at 0x000001E1AF154C50>\n",
      "<__main__.node object at 0x000001E1AF154C50>\n"
     ]
    }
   ],
   "source": [
    "#linked list\n",
    "class node:\n",
    "    def __init__(self,data):\n",
    "        self.value=data\n",
    "        self.next=None\n",
    "head=tail=node(10)\n",
    "tail.next=node(20)\n",
    "tail=tail.next\n",
    "\n",
    "tail.next=node(30)\n",
    "tail=tail.next\n",
    "\n",
    "tail.next=node(40)\n",
    "tail=tail.next\n",
    "\n",
    "\n",
    "\n",
    "\n",
    "print(head)\n",
    "print(tail)\n",
    "print(head.next.next.next)"
   ]
  },
  {
   "cell_type": "code",
   "execution_count": 12,
   "id": "7e255430-897a-40b8-b022-9b0b94087aef",
   "metadata": {
    "tags": []
   },
   "outputs": [
    {
     "name": "stdout",
     "output_type": "stream",
     "text": [
      "10\n",
      "20\n",
      "30\n",
      "40\n"
     ]
    }
   ],
   "source": [
    "def print_link_list(head):\n",
    "    if head==None:\n",
    "        print(\"list is empty\")\n",
    "        return\n",
    "    curr=head\n",
    "    while curr !=None:\n",
    "        print(curr.value)\n",
    "        curr=curr.next\n",
    "print_link_list(head)"
   ]
  }
 ],
 "metadata": {
  "kernelspec": {
   "display_name": "Python 3 (ipykernel)",
   "language": "python",
   "name": "python3"
  },
  "language_info": {
   "codemirror_mode": {
    "name": "ipython",
    "version": 3
   },
   "file_extension": ".py",
   "mimetype": "text/x-python",
   "name": "python",
   "nbconvert_exporter": "python",
   "pygments_lexer": "ipython3",
   "version": "3.11.5"
  }
 },
 "nbformat": 4,
 "nbformat_minor": 5
}
