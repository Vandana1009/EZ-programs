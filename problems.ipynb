{
 "cells": [
  {
   "cell_type": "code",
   "execution_count": null,
   "id": "30de0182-5584-4d75-b893-4ba09149ab9e",
   "metadata": {
    "tags": []
   },
   "outputs": [],
   "source": [
    "p=[5,10,15,7,8,9,4]\n",
    "w=[1,3,5,4,1,3,2]\n",
    "p_w={}\n",
    "for i in range(len(p)):\n",
    "    p_w[i]=p[i]/w[i]\n",
    "print(p_w)\n",
    "l=list(p_w.items())\n",
    "print(l)\n",
    "sorted_list=sort(key=l.item[1],reverse=True)\n",
    "print(sorted_list)"
   ]
  },
  {
   "cell_type": "code",
   "execution_count": 1,
   "id": "0c8323ec-c940-4c39-b11c-33b0a81a6f69",
   "metadata": {
    "tags": []
   },
   "outputs": [
    {
     "name": "stdout",
     "output_type": "stream",
     "text": [
      "400\n",
      "16\n"
     ]
    }
   ],
   "source": [
    "#lambda function\n",
    "def a(x):\n",
    "    return x*x\n",
    "#def b(x):\n",
    " #   return x-4\n",
    "b=lambda x: x-4\n",
    "\n",
    "print(a(20))\n",
    "print(b(20))\n"
   ]
  },
  {
   "cell_type": "code",
   "execution_count": 2,
   "id": "e7d84434-30b9-4e31-92be-53af31eb4934",
   "metadata": {},
   "outputs": [
    {
     "name": "stdout",
     "output_type": "stream",
     "text": [
      "51\n"
     ]
    }
   ],
   "source": [
    "def calc_max(p,w,c,n):\n",
    "    if n==0 or c==0:\n",
    "        return 0\n",
    "    if (w[n-1]>c):\n",
    "        return calc_max(p,w,c,n-1)\n",
    "    else:\n",
    "        return max(p[n-1]+calc_max(p,w,c-w[n-1],n-1),calc_max(p,w,c,n-1))\n",
    "p=[5,10,15,7,8,9,4]\n",
    "w=[1,3,5,4,1,3,2]\n",
    "c=15\n",
    "n=len(p)\n",
    "print(calc_max(p,w,c,n))"
   ]
  },
  {
   "cell_type": "code",
   "execution_count": 3,
   "id": "489f44d5-20ad-414a-aa38-15ad1c0f359c",
   "metadata": {},
   "outputs": [
    {
     "name": "stdout",
     "output_type": "stream",
     "text": [
      "[[0, 0, 4, 4, 4, 4, 4, 4, 4, 4, 4, 4, 4, 4, 4, 4], [0, 5, 5, 9, 9, 9, 9, 9, 9, 9, 9, 9, 9, 9, 9, 9], [0, 5, 5, 10, 15, 15, 19, 19, 19, 19, 19, 19, 19, 19, 19, 19], [0, 5, 5, 10, 15, 15, 20, 20, 25, 30, 30, 34, 34, 34, 34, 34], [0, 5, 5, 10, 15, 15, 20, 20, 25, 30, 30, 34, 34, 37, 37, 41], [0, 8, 13, 13, 18, 23, 23, 28, 28, 33, 38, 38, 42, 42, 45, 45], [0, 8, 13, 13, 18, 23, 23, 28, 32, 33, 38, 38, 42, 47, 47, 51], [0, 0, 0, 0, 0, 0, 0, 0, 0, 0, 0, 0, 0, 0, 0, 0]]\n",
      "51\n"
     ]
    }
   ],
   "source": [
    "p=[5,10,15,7,8,9,4]\n",
    "w=[1,3,5,4,1,3,2]\n",
    "c=15\n",
    "n=len(p)\n",
    "dp=[[0 for i in range(c+1)] for j in range (n+1)]\n",
    "for i in range(n):\n",
    "    for c in range(c+1):\n",
    "        if i==0 or c==0:\n",
    "            dp[i][c]=0\n",
    "        if c-w[i-1]<0:\n",
    "            dp[i][c]=dp[i-1][c]\n",
    "        else:\n",
    "            dp[i][c]=max(dp[i-1][c],p[i-1]+dp[i-1][c-w[i-1]])\n",
    "print(dp)\n",
    "print(dp[i][c])\n",
    "        "
   ]
  },
  {
   "cell_type": "code",
   "execution_count": 4,
   "id": "aa557b69-c550-4c35-b456-34c47ccf7ee4",
   "metadata": {},
   "outputs": [
    {
     "name": "stdout",
     "output_type": "stream",
     "text": [
      "65\n"
     ]
    }
   ],
   "source": [
    "char_a='A'\n",
    "print(ord(char_a))"
   ]
  },
  {
   "cell_type": "code",
   "execution_count": 5,
   "id": "202bef17-61b6-46ad-96f2-b563fef231ff",
   "metadata": {
    "tags": []
   },
   "outputs": [
    {
     "name": "stdout",
     "output_type": "stream",
     "text": [
      "A\n"
     ]
    }
   ],
   "source": [
    "a=65\n",
    "print(chr(a))"
   ]
  },
  {
   "cell_type": "code",
   "execution_count": 17,
   "id": "2ef25259-12eb-4345-8930-8129208c437d",
   "metadata": {
    "tags": []
   },
   "outputs": [
    {
     "name": "stdout",
     "output_type": "stream",
     "text": [
      "10 20\n"
     ]
    }
   ],
   "source": [
    "a=10\n",
    "b=20\n",
    "#a **= b\n",
    "#print(a)\n",
    "print(a,b)"
   ]
  },
  {
   "cell_type": "code",
   "execution_count": 23,
   "id": "362d5799-8ca9-4681-bc84-e96b3c20b391",
   "metadata": {
    "tags": []
   },
   "outputs": [
    {
     "name": "stdout",
     "output_type": "stream",
     "text": [
      "my name is vandana and my age is 21\n"
     ]
    }
   ],
   "source": [
    "name=\"vandana\"\n",
    "age=\"21\"\n",
    "print(\"my name is \" +name+ \" and my age is \"+age)"
   ]
  },
  {
   "cell_type": "code",
   "execution_count": 24,
   "id": "54a6f93a-4844-4718-8f39-c370fcc32ef8",
   "metadata": {
    "tags": []
   },
   "outputs": [
    {
     "name": "stdin",
     "output_type": "stream",
     "text": [
      "enter name John\n"
     ]
    },
    {
     "name": "stdout",
     "output_type": "stream",
     "text": [
      "Hello,John!"
     ]
    }
   ],
   "source": [
    "#goal Hello, John!\n",
    "name=input(\"enter name\")\n",
    "print(\"Hello\",name,sep=\",\",end=\"!\")"
   ]
  },
  {
   "cell_type": "code",
   "execution_count": 2,
   "id": "080415c6-cf01-430c-b1be-544240583f77",
   "metadata": {
    "tags": []
   },
   "outputs": [
    {
     "name": "stdout",
     "output_type": "stream",
     "text": [
      "you entered:5\n"
     ]
    }
   ],
   "source": [
    "#goal.. you entered: 5\n",
    "num=5\n",
    "print(\"you entered:\",num,sep=\"\")"
   ]
  },
  {
   "cell_type": "code",
   "execution_count": 1,
   "id": "b85174ac-6e90-4571-9072-08242b704155",
   "metadata": {},
   "outputs": [
    {
     "name": "stdout",
     "output_type": "stream",
     "text": [
      "4 0 1\n",
      "(4, 0, 1)\n",
      "(4, 2, 1)\n",
      "(10, 7, 2)\n",
      "(4, 8, 3)\n",
      "(8, 1, 2)\n",
      "(2, 3, 4)\n",
      "(2, 6, 5)\n",
      "(4, 5, 6)\n",
      "(5, 9, 8)\n"
     ]
    }
   ],
   "source": [
    "#prims algorithm\n",
    "graph=[\n",
    "      [0, 7, -1, -1, -1, -1, -1, 2, -1, -1],\n",
    "      [7, 0,  4,  1, -1,  5, -1, -1,-1,-1],\n",
    "      [-1,4,0,-1,-1,-1,-1,8,-1,-1],\n",
    "      [-1,1,-1,0,6,8,3,3,-1,-1],\n",
    "      [-1,-1,-1,6,0,-1,-1,6,8,-1],\n",
    "      [-1,5,-1,8,-1,0,-1,-1,-1,-1],\n",
    "      [-1,-1,-1,3,-1,-1,0,-1,9,2],\n",
    "      [2,-1,8,3,6,-1,-1,0,-1,-1],\n",
    "      [-1,-1,-1,-1,8,-1,9,-1,0,-1],\n",
    "      [-1,-1,-1,-1,-1,-1,2,-1,-1,0]\n",
    "      ]\n",
    "visited=[False]*len(graph)\n",
    "min=float('inf')\n",
    "x=y= -1\n",
    "for i in range(len(graph)):\n",
    "    for j in range(len(graph[i])):\n",
    "        if graph[i][j]==0 or graph[i][j]== -1:\n",
    "            continue\n",
    "        elif min>graph[i][j]:\n",
    "            min=graph[i][j]\n",
    "            x=i\n",
    "            x=j\n",
    "print(x+1,y+1,min)\n",
    "visited[x]=True\n",
    "visited[y]=True\n",
    "MST=[]\n",
    "MST.append(tuple((x+1,y+1,min)))\n",
    "\n",
    "while False in visited:\n",
    "    min=float('inf')\n",
    "    for i in range(len(visited)):\n",
    "        \n",
    "        if visited[i]==True:\n",
    "            for j in range(len(graph[i])):\n",
    "                if graph[i][j]==0 or graph[i][j]== -1 or visited[j]==True:\n",
    "                    continue\n",
    "                elif min>graph[i][j]:\n",
    "                    min=graph[i][j]\n",
    "                    x=i\n",
    "                    y=j\n",
    "    visited[y]=True\n",
    "    MST.append(tuple((x+1,y+1,min)))\n",
    "for i in MST:\n",
    "    print(i)"
   ]
  },
  {
   "cell_type": "code",
   "execution_count": 2,
   "id": "f0313dbb-857a-44f6-921c-9ad06a1929c4",
   "metadata": {},
   "outputs": [
    {
     "name": "stdout",
     "output_type": "stream",
     "text": [
      "4 0 1\n",
      "(4, 0, 1)\n",
      "(4, 2, 1)\n",
      "(1, 8, 2)\n",
      "(8, 1, 2)\n",
      "(10, 7, 2)\n",
      "(2, 3, 4)\n",
      "(2, 6, 5)\n",
      "(4, 5, 6)\n",
      "(5, 9, 8)\n"
     ]
    }
   ],
   "source": [
    "#kruskal algorithm\n",
    "graph=[\n",
    "      [0,7,-1,-1,-1,-1,-1,2,-1,-1],\n",
    "      [7,0,4,1,-1,5,-1,-1,-1,-1],\n",
    "      [-1,4,0,-1,-1,-1,-1,8,-1,-1],\n",
    "      [-1,1,-1,0,6,8,3,3,-1,-1],\n",
    "      [-1,-1,-1,6,0,-1,-1,6,8,-1],\n",
    "      [-1,5,-1,8,-1,0,-1,-1,-1,-1],\n",
    "      [-1,-1,-1,3,-1,-1,0,-1,9,2],\n",
    "      [2,-1,8,3,6,-1,-1,0,-1,-1],\n",
    "      [-1,-1,-1,-1,8,-1,9,-1,0,-1],\n",
    "      [-1,-1,-1,-1,-1,-1,2,-1,-1,0]\n",
    "      ]\n",
    "visited=[False]*len(graph)\n",
    "min=float('inf')\n",
    "x=y= -1\n",
    "for i in range(len(graph)):\n",
    "    for j in range(len(graph[i])):\n",
    "        if graph[i][j]==0 or graph[i][j]== -1:\n",
    "            continue\n",
    "        elif min>graph[i][j]:\n",
    "            min=graph[i][j]\n",
    "            x=i\n",
    "            x=j\n",
    "print(x+1,y+1,min)\n",
    "visited[x]=True\n",
    "visited[y]=True\n",
    "MST=[]\n",
    "MST.append(tuple((x+1,y+1,min)))\n",
    "\n",
    "while False in visited:\n",
    "    min=float('inf')\n",
    "    for i in range(len(visited)):\n",
    "        \n",
    "        #if visited[i]==True:\n",
    "            for j in range(len(graph[i])):\n",
    "                if graph[i][j]==0 or graph[i][j]== -1 or visited[j]==True:\n",
    "                    continue\n",
    "                elif min>graph[i][j]:\n",
    "                    min=graph[i][j]\n",
    "                    x=i\n",
    "                    y=j\n",
    "    visited[y]=True\n",
    "    MST.append(tuple((x+1,y+1,min)))\n",
    "for i in MST:\n",
    "    print(i)"
   ]
  },
  {
   "cell_type": "code",
   "execution_count": 13,
   "id": "c7d50e3e-386e-4703-b8a2-e0ad0f679b54",
   "metadata": {},
   "outputs": [
    {
     "name": "stdout",
     "output_type": "stream",
     "text": [
      "[(0, 1), (0, 2), (0, 3), (1, 4), (2, 1), (2, 4), (3, 2), (3, 5), (4, 5)]\n",
      "{0: 0, 1: inf, 2: inf, 3: inf, 4: inf, 5: inf}\n",
      "{0: 0, 1: 1, 2: 3, 3: 5, 4: 0, 5: 3}\n"
     ]
    }
   ],
   "source": [
    "#bellmanford algorithm\n",
    "#shortest distance from single source ie A to other source\n",
    "g=[\n",
    "  [0,6,4,5,False,False],\n",
    "  [False,0,False,False,-1,False],\n",
    "  [False,-2,0,False,3,False],\n",
    "  [False,False,-2,0,False,-1],\n",
    "  [False,False,False,False,0,3],\n",
    "  [False,False,False,False,False,0]\n",
    "  ]\n",
    "#d={0:\"A\",1:\"B\",2:\"C\",3:\"D\",4:\"E\",5:\"F\"}\n",
    "edge_list=[]\n",
    "for i in range(len(g)):\n",
    "    for j in range(len(g[i])):\n",
    "        if g[i][j]!=False and g[i][j]!=0:\n",
    "            edge_list.append(tuple((i,j)))\n",
    "print(edge_list)\n",
    "\n",
    "dist={}\n",
    "for i in range(len(g)):\n",
    "    dist[i]=float('inf')\n",
    "dist[0]=0\n",
    "print(dist)\n",
    "    \n",
    "for i in range(len(g)-1):\n",
    "    for j in edge_list:\n",
    "        new_dist=dist[j[0]]+g[j[0]][j[1]]\n",
    "        if dist[j[1]]>new_dist:\n",
    "            dist[j[1]]=new_dist\n",
    "            \n",
    "print(dist)      "
   ]
  },
  {
   "cell_type": "code",
   "execution_count": 4,
   "id": "fac86c03",
   "metadata": {
    "tags": []
   },
   "outputs": [
    {
     "name": "stdout",
     "output_type": "stream",
     "text": [
      "{0: 0, 1: inf, 2: inf, 3: inf, 4: inf, 5: inf, 6: inf, 7: inf, 8: inf, 9: inf}\n",
      "[0, 6, 10, 5, 8, 11, 8, 2, 16, 10]\n"
     ]
    }
   ],
   "source": [
    "#dijkstra algorithm\n",
    "\n",
    "graph=[\n",
    "      [0,7,False,False,False,False,False,2,False,False],\n",
    "      [7,0,4,1,False,5,False,False,False,False],\n",
    "      [False,4,0,False,False,False,False,8,False,False],\n",
    "      [False,1,False,0,6,8,3,3,False,False],\n",
    "      [False,False,False,6,0,False,False,6,8,False],\n",
    "      [False,5,False,8,False,0,False,False,False,False],\n",
    "      [False,False,False,3,False,False,0,False,9,2],\n",
    "      [2,False,8,3,6,False,False,0,False,False],\n",
    "      [False,False,False,False,8,False,9,False,0,False],\n",
    "      [False,False,False,False,False,False,2,False,False,0]\n",
    "      ]\n",
    "temp={}\n",
    "for i in range(len(graph)):\n",
    "    temp[i]=float('inf')\n",
    "    \n",
    "dist=[float('inf')]*len(graph)\n",
    "temp[0]=0 #this is start index ie is 0\n",
    "print(temp)\n",
    "while len(temp)>0:\n",
    "    min_value=min(temp.values())\n",
    "    min_key=min(temp,key=temp.get)\n",
    "    temp.pop(min_key)\n",
    "    dist[min_key]=min_value\n",
    "    for j in range(len(graph[min_key])):\n",
    "        if graph[min_key][j]!=False and graph[min_key][j]!=0:\n",
    "            new_dist=min_value+graph[min_key][j]\n",
    "            if j in temp.keys() and temp[j]>new_dist:\n",
    "                temp[j]=new_dist\n",
    "print(dist)\n",
    "\n",
    "\n"
   ]
  },
  {
   "cell_type": "code",
   "execution_count": 2,
   "id": "caaa0be1-6039-4af4-b87a-c299329e43cf",
   "metadata": {
    "tags": []
   },
   "outputs": [
    {
     "name": "stdout",
     "output_type": "stream",
     "text": [
      "[2, 18]\n"
     ]
    }
   ],
   "source": [
    "#KMP algorithm (knuth-morris-pratt algorithm)\n",
    "s = \"ABABABCANFKABABCNKABABCACNDA\"\n",
    "p = \"ABABCA\"\n",
    "\n",
    "indices = []\n",
    "index = s.find(p)\n",
    "while index != -1:\n",
    "    indices.append(index)\n",
    "    index = s.find(p, index + 1)\n",
    "\n",
    "print(indices)\n"
   ]
  },
  {
   "cell_type": "code",
   "execution_count": 12,
   "id": "3bf7fd01-256b-4b48-b228-59c4e5190ee4",
   "metadata": {},
   "outputs": [
    {
     "name": "stdout",
     "output_type": "stream",
     "text": [
      "move 1 from A to B\n",
      "move 2 from A to C\n",
      "move 1 from B to C\n",
      "move 3 from A to B\n",
      "move 1 from C to A\n",
      "move 2 from C to B\n",
      "move 1 from A to B\n",
      "move 4 from A to C\n",
      "move 1 from B to C\n",
      "move 2 from B to A\n",
      "move 1 from C to A\n",
      "move 3 from B to C\n",
      "move 1 from A to B\n",
      "move 2 from A to C\n",
      "move 1 from B to C\n",
      "[15]\n"
     ]
    }
   ],
   "source": [
    "#Tower of hannoi\n",
    "ctr=[0]\n",
    "def tower(n,frm,to,aux,ctr):\n",
    "    if n==0:\n",
    "        return\n",
    "    tower(n-1,frm,aux,to,ctr)\n",
    "    print(f\"move {n} from {frm} to {to}\")\n",
    "    ctr[0]+=1\n",
    "    tower(n-1,aux,to,frm,ctr)   \n",
    "n=4\n",
    "tower(n,'A','C','B',ctr)\n",
    "print(ctr)"
   ]
  },
  {
   "cell_type": "code",
   "execution_count": 3,
   "id": "fa9bdb8c-d7ff-4a5f-b884-4a8ee2ff347d",
   "metadata": {},
   "outputs": [
    {
     "name": "stdout",
     "output_type": "stream",
     "text": [
      "[10, 100, 22, 50, 92, 79, 56, 47, False, 99]\n"
     ]
    }
   ],
   "source": [
    "#hashing technique\n",
    "input_list=[22,10,47,56,100,50,92,99,79]\n",
    "hash_list=[False]*10\n",
    "for i in input_list:\n",
    "    h_k=i%10\n",
    "    if hash_list[h_k]==False:\n",
    "        hash_list[h_k]=i\n",
    "    else:\n",
    "        for j in range(0,len(hash_list)):\n",
    "            h1_k=(h_k+j)%10\n",
    "            if hash_list[h1_k]==False:\n",
    "                hash_list[h1_k]=i\n",
    "                break\n",
    "            \n",
    "print(hash_list)"
   ]
  },
  {
   "cell_type": "code",
   "execution_count": null,
   "id": "009d554b-8e20-4167-8f40-8a6829540c14",
   "metadata": {},
   "outputs": [],
   "source": []
  }
 ],
 "metadata": {
  "kernelspec": {
   "display_name": "Python 3 (ipykernel)",
   "language": "python",
   "name": "python3"
  },
  "language_info": {
   "codemirror_mode": {
    "name": "ipython",
    "version": 3
   },
   "file_extension": ".py",
   "mimetype": "text/x-python",
   "name": "python",
   "nbconvert_exporter": "python",
   "pygments_lexer": "ipython3",
   "version": "3.11.5"
  }
 },
 "nbformat": 4,
 "nbformat_minor": 5
}
