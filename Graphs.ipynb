{
 "cells": [
  {
   "cell_type": "code",
   "execution_count": 7,
   "id": "068a024b-57ad-4c7d-a2f9-0e69a549c44e",
   "metadata": {},
   "outputs": [
    {
     "name": "stdout",
     "output_type": "stream",
     "text": [
      "4\n",
      "3\n",
      "6\n",
      "8\n",
      "13\n",
      "12\n",
      "9\n",
      "7\n",
      "11\n",
      "10\n",
      "5\n",
      "2\n",
      "1\n"
     ]
    }
   ],
   "source": [
    "#dfs graph\n",
    "def dfs(g,v,s,e):\n",
    "    if v[e]=='F':\n",
    "        s.append(e)\n",
    "        v[e]='T'\n",
    "    else:\n",
    "         return\n",
    "    for i in g[e]:\n",
    "        dfs(g,v,s,i[1])\n",
    "    print(s.pop())\n",
    "if __name__==\"__main__\":           \n",
    "    v={1:'F',2:'F',3:'F',4:'F',5:'F',6:'F',7:'F',8:'F',9:'F',10:'F',11:'F',12:'F',13:'F'} \n",
    "    s=[]\n",
    "    g={1:[(1,2,0),(1,3,0)],\n",
    "       2:[(2,1,0),(2,5,0)],\n",
    "       3:[(3,1,0),(3,4,0),(3,6,0)],\n",
    "       4:[(4,3,0)],\n",
    "       5:[(5,2,0),(5,7,0),(5,10,0),(5,13,0)],\n",
    "       6:[(6,3,0),(6,7,0)],\n",
    "       7:[(7,5,0),(7,6,0),(7,8,0),(7,9,0)],\n",
    "       8:[(8,7,0)],\n",
    "       9:[(9,7,0),(9,12,0)],\n",
    "       10:[(10,5,0),(10,11,0)],\n",
    "       11:[(11,10,0)],\n",
    "       12:[(12,9,0),(12,13,0)],\n",
    "       13:[(13,12,0),(13,5,0)]\n",
    "      }\n",
    "dfs(g,v,s,1)\n",
    "\n",
    "        "
   ]
  },
  {
   "cell_type": "code",
   "execution_count": 2,
   "id": "c358a622-d1b6-4cb8-86be-c784bbc53476",
   "metadata": {},
   "outputs": [
    {
     "name": "stdout",
     "output_type": "stream",
     "text": [
      "1\n",
      "2\n",
      "3\n",
      "5\n",
      "4\n",
      "6\n",
      "7\n",
      "10\n",
      "13\n",
      "8\n",
      "9\n",
      "11\n",
      "12\n"
     ]
    }
   ],
   "source": [
    "def bfs(g,e):\n",
    "    q=[e]\n",
    "    v={}\n",
    "    for i in g.keys():\n",
    "        v[i]=False\n",
    "    v[e]=True\n",
    "    while len(q)!=0:\n",
    "        curr=q.pop(0)\n",
    "        print(curr)\n",
    "        for i in g[curr]:\n",
    "            if v[i[1]]==False:\n",
    "                q.append(i[1])\n",
    "                v[i[1]]=True\n",
    "if __name__==\"__main__\":           \n",
    "    v={1:'F',2:'F',3:'F',4:'F',5:'F',6:'F',7:'F',8:'F',9:'F',10:'F',11:'F',12:'F',13:'F'} \n",
    "    s=[]\n",
    "    g={1:[(1,2,0),(1,3,0)],\n",
    "       2:[(2,1,0),(2,5,0)],\n",
    "       3:[(3,1,0),(3,4,0),(3,6,0)],\n",
    "       4:[(4,3,0)],\n",
    "       5:[(5,2,0),(5,7,0),(5,10,0),(5,13,0)],\n",
    "       6:[(6,3,0),(6,7,0)],\n",
    "       7:[(7,5,0),(7,6,0),(7,8,0),(7,9,0)],\n",
    "       8:[(8,7,0)],\n",
    "       9:[(9,7,0),(9,12,0)],\n",
    "       10:[(10,5,0),(10,11,0)],\n",
    "       11:[(11,10,0)],\n",
    "       12:[(12,9,0),(12,13,0)],\n",
    "       13:[(13,12,0),(13,5,0)]\n",
    "      }\n",
    "bfs(g,1)\n",
    "\n",
    "                       "
   ]
  },
  {
   "cell_type": "code",
   "execution_count": null,
   "id": "19685fcb-fc48-46bb-8501-6f49b7e7bbaf",
   "metadata": {},
   "outputs": [],
   "source": []
  }
 ],
 "metadata": {
  "kernelspec": {
   "display_name": "Python 3 (ipykernel)",
   "language": "python",
   "name": "python3"
  },
  "language_info": {
   "codemirror_mode": {
    "name": "ipython",
    "version": 3
   },
   "file_extension": ".py",
   "mimetype": "text/x-python",
   "name": "python",
   "nbconvert_exporter": "python",
   "pygments_lexer": "ipython3",
   "version": "3.11.5"
  }
 },
 "nbformat": 4,
 "nbformat_minor": 5
}
