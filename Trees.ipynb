{
 "cells": [
  {
   "cell_type": "code",
   "execution_count": 2,
   "id": "158c0565-2189-467c-a968-18b65174c11b",
   "metadata": {
    "tags": []
   },
   "outputs": [
    {
     "name": "stdout",
     "output_type": "stream",
     "text": [
      "1\n",
      "2\n",
      "4\n",
      "5\n",
      "3\n",
      "7\n"
     ]
    }
   ],
   "source": [
    "#preeorder\n",
    "\n",
    "class node:\n",
    "    def __init__(self,data):\n",
    "        self.value=data\n",
    "        self.left=None\n",
    "        self.right=None\n",
    "def preorder(root):\n",
    "    if root==None:\n",
    "        return\n",
    "    \n",
    "    print(root.value)\n",
    "    preorder(root.left)\n",
    "    preorder(root.right)\n",
    "    \n",
    "if __name__==\"__main__\":\n",
    "    root=node(1)\n",
    "    root.left=node(2)\n",
    "    root.right=node(3)\n",
    "    root.left.left=node(4)\n",
    "    root.left.right=node(5)\n",
    "    root.right.left=node(6)\n",
    "    root.right.left=node(7)\n",
    "    preorder(root)"
   ]
  },
  {
   "cell_type": "code",
   "execution_count": 3,
   "id": "68bbc93d-f4b6-407c-9369-c746a7801a5c",
   "metadata": {
    "tags": []
   },
   "outputs": [
    {
     "name": "stdout",
     "output_type": "stream",
     "text": [
      "4\n",
      "2\n",
      "5\n",
      "1\n",
      "7\n",
      "3\n"
     ]
    }
   ],
   "source": [
    "#inorder\n",
    "\n",
    "class node:\n",
    "    def __init__(self,data):\n",
    "        self.value=data\n",
    "        self.left=None\n",
    "        self.right=None\n",
    "        \n",
    "def inorder(root):\n",
    "    if root==None:\n",
    "        return\n",
    "    \n",
    "    inorder(root.left)\n",
    "    print(root.value)\n",
    "    inorder(root.right)\n",
    "    \n",
    "\n",
    "if __name__==\"__main__\":\n",
    "    root=node(1)\n",
    "    root.left=node(2)\n",
    "    root.right=node(3)\n",
    "    root.left.left=node(4)\n",
    "    root.left.right=node(5)\n",
    "    root.right.left=node(6)\n",
    "    root.right.left=node(7)\n",
    "    inorder(root)\n",
    "    "
   ]
  },
  {
   "cell_type": "code",
   "execution_count": 4,
   "id": "1e5695f1-0c22-49f1-aed9-aab2a7c8b76b",
   "metadata": {
    "tags": []
   },
   "outputs": [
    {
     "name": "stdout",
     "output_type": "stream",
     "text": [
      "4\n",
      "5\n",
      "2\n",
      "7\n",
      "3\n",
      "1\n"
     ]
    }
   ],
   "source": [
    "#postorder\n",
    "\n",
    "class node:\n",
    "    def __init__(self,data):\n",
    "        self.value=data\n",
    "        self.left=None\n",
    "        self.right=None\n",
    "        \n",
    "def postorder(root):\n",
    "    if root==None:\n",
    "        return\n",
    "    \n",
    "    postorder(root.left)\n",
    "    postorder(root.right)\n",
    "    print(root.value)\n",
    "    \n",
    "if __name__==\"__main__\":\n",
    "    root=node(1)\n",
    "    root.left=node(2)\n",
    "    root.right=node(3)\n",
    "    root.left.left=node(4)\n",
    "    root.left.right=node(5)\n",
    "    root.right.left=node(6)\n",
    "    root.right.left=node(7)\n",
    "    postorder(root)\n",
    "    "
   ]
  },
  {
   "cell_type": "code",
   "execution_count": 2,
   "id": "9b8ec4c6-7cd0-4f12-a0ac-0f17d8f126af",
   "metadata": {
    "tags": []
   },
   "outputs": [
    {
     "name": "stdout",
     "output_type": "stream",
     "text": [
      "1 \n",
      "2 3 \n",
      "4 5 6 7 \n",
      "9 10 11 \n",
      "12 13 "
     ]
    }
   ],
   "source": [
    "#levelorder\n",
    "\n",
    "class node:\n",
    "    def __init__(self,data):\n",
    "        self.value=data\n",
    "        self.left=None\n",
    "        self.right=None\n",
    "def levelorder(root):\n",
    "    q=[root]\n",
    "    q.append(None) \n",
    "    \n",
    "    while len(q)>0:\n",
    "        curr=q.pop(0)\n",
    "        \n",
    "        if curr==None:\n",
    "            if len(q)==0:\n",
    "                break\n",
    "            else:\n",
    "                print()\n",
    "                q.append(None)\n",
    "                \n",
    "        else:\n",
    "            print(curr.value,end=\" \")\n",
    "            if curr.left!=None:\n",
    "                q.append(curr.left)\n",
    "            if curr.right!=None:\n",
    "                q.append(curr.right)\n",
    "                \n",
    "if __name__==\"__main__\":\n",
    "    root=node(1)\n",
    "    root.left=node(2)\n",
    "    root.right=node(3)\n",
    "    root.left.left=node(4)\n",
    "    root.left.right=node(5)\n",
    "    root.right.left=node(6)\n",
    "    root.right.right=node(7)\n",
    "    root.left.right.left=node(9)\n",
    "    root.left.right.right=node(10)\n",
    "    root.right.right.right=node(11)\n",
    "    root.left.right.left.left=node(12)\n",
    "    root.left.right.left.right=node(13)\n",
    "    levelorder(root)\n",
    "    \n"
   ]
  },
  {
   "cell_type": "code",
   "execution_count": 20,
   "id": "c638d553-5fea-46f0-9617-a5cf13133df6",
   "metadata": {
    "tags": []
   },
   "outputs": [
    {
     "name": "stdout",
     "output_type": "stream",
     "text": [
      "0\n",
      "2\n",
      "3\n",
      "4\n",
      "6\n",
      "7\n",
      "8\n",
      "9\n",
      "10\n",
      "12\n",
      "15\n",
      "17\n",
      "21\n",
      "26\n",
      "34\n",
      "143\n"
     ]
    }
   ],
   "source": [
    "#AVL tree\n",
    "\n",
    "class node:\n",
    "    def __init__(self,data):\n",
    "        self.val=data\n",
    "        self.left=None\n",
    "        self.right=None\n",
    "        \n",
    "        self.height=1\n",
    "        \n",
    "def insert(root,super):\n",
    "    if not root:\n",
    "        return node(super)\n",
    "    if super<root.val:\n",
    "        root.left=insert(root.left,super)\n",
    "    else:\n",
    "        root.right=insert(root.right,super)\n",
    "        \n",
    "    root.height=1+max(ght(root.left),ght(root.right))\n",
    "    bf=getbf(root)\n",
    "    \n",
    "    if bf>1 and super<root.left.val:\n",
    "        return rightRotate(root)\n",
    "    \n",
    "    if bf>1 and super>root.left.val:\n",
    "        root.left=leftRotate(root.left)\n",
    "        return rightRotate(root)\n",
    "    \n",
    "    if bf<-1 and super>root.right.val:\n",
    "        return leftRotate(root)\n",
    "    \n",
    "    \n",
    "    if bf<-1 and super<root.right.val:\n",
    "        root.right=rightRotate(root.right)\n",
    "        return leftRotate(root)\n",
    "    \n",
    "    return root\n",
    "def ght(root):\n",
    "    if not root:\n",
    "        return 0\n",
    "    return root.height\n",
    "\n",
    "def getbf(root):\n",
    "    if not root:\n",
    "        return 0\n",
    "    return ght(root.left)-ght(root.right)\n",
    "\n",
    "def leftRotate(A):\n",
    "    B=A.right\n",
    "    temp=B.left\n",
    "    \n",
    "    B.left=A\n",
    "    A.right=temp\n",
    "    \n",
    "    A.height=1+max(ght(A.left),ght(A.right))\n",
    "    B.height=1+max(ght(B.left),ght(B.right))\n",
    "    \n",
    "    return B\n",
    "\n",
    "def rightRotate(A):\n",
    "    B=A.left\n",
    "    temp=B.right\n",
    "    \n",
    "    B.right=A\n",
    "    A.left=temp\n",
    "    \n",
    "    A.height=1+max(ght(A.left),ght(A.right))\n",
    "    B.height=1+max(ght(B.left),ght(B.right))\n",
    "    \n",
    "    return B\n",
    "    \n",
    "    \n",
    "def inorder(root):\n",
    "    if not root:\n",
    "        return\n",
    "    inorder(root.left)\n",
    "    print(root.val)\n",
    "    inorder(root.right)\n",
    "        \n",
    "           \n",
    "        \n",
    "if __name__==\"__main__\":\n",
    "    root=None\n",
    "    val=[10,26,15,8,9,4,2,3,0,7,6,143,12,17,21,34]\n",
    "    for i in val:\n",
    "        root=insert(root,i)\n",
    "    inorder(root)\n",
    "\n",
    "    "
   ]
  },
  {
   "cell_type": "code",
   "execution_count": null,
   "id": "6465b031-8e8b-40ea-a0f0-eb4e0f1522fc",
   "metadata": {},
   "outputs": [],
   "source": []
  }
 ],
 "metadata": {
  "kernelspec": {
   "display_name": "Python 3 (ipykernel)",
   "language": "python",
   "name": "python3"
  },
  "language_info": {
   "codemirror_mode": {
    "name": "ipython",
    "version": 3
   },
   "file_extension": ".py",
   "mimetype": "text/x-python",
   "name": "python",
   "nbconvert_exporter": "python",
   "pygments_lexer": "ipython3",
   "version": "3.11.5"
  }
 },
 "nbformat": 4,
 "nbformat_minor": 5
}
