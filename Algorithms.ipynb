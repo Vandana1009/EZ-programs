{
 "cells": [
  {
   "cell_type": "code",
   "execution_count": 1,
   "id": "cd8a929b-0c21-4c97-a43a-0b1c855922f9",
   "metadata": {
    "tags": []
   },
   "outputs": [
    {
     "name": "stdout",
     "output_type": "stream",
     "text": [
      "4 0 1\n",
      "(4, 0, 1)\n",
      "(4, 2, 1)\n",
      "(10, 7, 2)\n",
      "(4, 8, 3)\n",
      "(8, 1, 2)\n",
      "(2, 3, 4)\n",
      "(2, 6, 5)\n",
      "(4, 5, 6)\n",
      "(5, 9, 8)\n"
     ]
    }
   ],
   "source": [
    "#prims algorithm\n",
    "graph=[\n",
    "      [0, 7, -1, -1, -1, -1, -1, 2, -1, -1],\n",
    "      [7, 0,  4,  1, -1,  5, -1, -1,-1,-1],\n",
    "      [-1,4,0,-1,-1,-1,-1,8,-1,-1],\n",
    "      [-1,1,-1,0,6,8,3,3,-1,-1],\n",
    "      [-1,-1,-1,6,0,-1,-1,6,8,-1],\n",
    "      [-1,5,-1,8,-1,0,-1,-1,-1,-1],\n",
    "      [-1,-1,-1,3,-1,-1,0,-1,9,2],\n",
    "      [2,-1,8,3,6,-1,-1,0,-1,-1],\n",
    "      [-1,-1,-1,-1,8,-1,9,-1,0,-1],\n",
    "      [-1,-1,-1,-1,-1,-1,2,-1,-1,0]\n",
    "      ]\n",
    "visited=[False]*len(graph)\n",
    "min=float('inf')\n",
    "x=y= -1\n",
    "for i in range(len(graph)):\n",
    "    for j in range(len(graph[i])):\n",
    "        if graph[i][j]==0 or graph[i][j]== -1:\n",
    "            continue\n",
    "        elif min>graph[i][j]:\n",
    "            min=graph[i][j]\n",
    "            x=i\n",
    "            x=j\n",
    "print(x+1,y+1,min)\n",
    "visited[x]=True\n",
    "visited[y]=True\n",
    "MST=[]\n",
    "MST.append(tuple((x+1,y+1,min)))\n",
    "\n",
    "while False in visited:\n",
    "    min=float('inf')\n",
    "    for i in range(len(visited)):\n",
    "        \n",
    "        if visited[i]==True:\n",
    "            for j in range(len(graph[i])):\n",
    "                if graph[i][j]==0 or graph[i][j]== -1 or visited[j]==True:\n",
    "                    continue\n",
    "                elif min>graph[i][j]:\n",
    "                    min=graph[i][j]\n",
    "                    x=i\n",
    "                    y=j\n",
    "    visited[y]=True\n",
    "    MST.append(tuple((x+1,y+1,min)))\n",
    "for i in MST:\n",
    "    print(i)"
   ]
  },
  {
   "cell_type": "code",
   "execution_count": 2,
   "id": "9064dc1b-22cb-4e59-b2f9-c5378735ab88",
   "metadata": {
    "tags": []
   },
   "outputs": [
    {
     "name": "stdout",
     "output_type": "stream",
     "text": [
      "4 0 1\n",
      "(4, 0, 1)\n",
      "(4, 2, 1)\n",
      "(1, 8, 2)\n",
      "(8, 1, 2)\n",
      "(10, 7, 2)\n",
      "(2, 3, 4)\n",
      "(2, 6, 5)\n",
      "(4, 5, 6)\n",
      "(5, 9, 8)\n"
     ]
    }
   ],
   "source": [
    "#kruskal algorithm\n",
    "graph=[\n",
    "      [0,7,-1,-1,-1,-1,-1,2,-1,-1],\n",
    "      [7,0,4,1,-1,5,-1,-1,-1,-1],\n",
    "      [-1,4,0,-1,-1,-1,-1,8,-1,-1],\n",
    "      [-1,1,-1,0,6,8,3,3,-1,-1],\n",
    "      [-1,-1,-1,6,0,-1,-1,6,8,-1],\n",
    "      [-1,5,-1,8,-1,0,-1,-1,-1,-1],\n",
    "      [-1,-1,-1,3,-1,-1,0,-1,9,2],\n",
    "      [2,-1,8,3,6,-1,-1,0,-1,-1],\n",
    "      [-1,-1,-1,-1,8,-1,9,-1,0,-1],\n",
    "      [-1,-1,-1,-1,-1,-1,2,-1,-1,0]\n",
    "      ]\n",
    "visited=[False]*len(graph)\n",
    "min=float('inf')\n",
    "x=y= -1\n",
    "for i in range(len(graph)):\n",
    "    for j in range(len(graph[i])):\n",
    "        if graph[i][j]==0 or graph[i][j]== -1:\n",
    "            continue\n",
    "        elif min>graph[i][j]:\n",
    "            min=graph[i][j]\n",
    "            x=i\n",
    "            x=j\n",
    "print(x+1,y+1,min)\n",
    "visited[x]=True\n",
    "visited[y]=True\n",
    "MST=[]\n",
    "MST.append(tuple((x+1,y+1,min)))\n",
    "\n",
    "while False in visited:\n",
    "    min=float('inf')\n",
    "    for i in range(len(visited)):\n",
    "        \n",
    "        #if visited[i]==True:\n",
    "            for j in range(len(graph[i])):\n",
    "                if graph[i][j]==0 or graph[i][j]== -1 or visited[j]==True:\n",
    "                    continue\n",
    "                elif min>graph[i][j]:\n",
    "                    min=graph[i][j]\n",
    "                    x=i\n",
    "                    y=j\n",
    "    visited[y]=True\n",
    "    MST.append(tuple((x+1,y+1,min)))\n",
    "for i in MST:\n",
    "    print(i)"
   ]
  },
  {
   "cell_type": "code",
   "execution_count": 3,
   "id": "08b7b5d3-6bf0-446e-ba58-3620bd8d5ecb",
   "metadata": {
    "tags": []
   },
   "outputs": [
    {
     "name": "stdout",
     "output_type": "stream",
     "text": [
      "[(0, 1), (0, 2), (0, 3), (1, 4), (2, 1), (2, 4), (3, 2), (3, 5), (4, 5)]\n",
      "{0: 0, 1: inf, 2: inf, 3: inf, 4: inf, 5: inf}\n",
      "{0: 0, 1: 1, 2: 3, 3: 5, 4: 0, 5: 3}\n"
     ]
    }
   ],
   "source": [
    "#bellmanford algorithm\n",
    "#shortest distance from single source ie A to other source\n",
    "g=[\n",
    "  [0,6,4,5,False,False],\n",
    "  [False,0,False,False,-1,False],\n",
    "  [False,-2,0,False,3,False],\n",
    "  [False,False,-2,0,False,-1],\n",
    "  [False,False,False,False,0,3],\n",
    "  [False,False,False,False,False,0]\n",
    "  ]\n",
    "#d={0:\"A\",1:\"B\",2:\"C\",3:\"D\",4:\"E\",5:\"F\"}\n",
    "edge_list=[]\n",
    "for i in range(len(g)):\n",
    "    for j in range(len(g[i])):\n",
    "        if g[i][j]!=False and g[i][j]!=0:\n",
    "            edge_list.append(tuple((i,j)))\n",
    "print(edge_list)\n",
    "\n",
    "dist={}\n",
    "for i in range(len(g)):\n",
    "    dist[i]=float('inf')\n",
    "dist[0]=0\n",
    "print(dist)\n",
    "    \n",
    "for i in range(len(g)-1):\n",
    "    for j in edge_list:\n",
    "        new_dist=dist[j[0]]+g[j[0]][j[1]]\n",
    "        if dist[j[1]]>new_dist:\n",
    "            dist[j[1]]=new_dist\n",
    "            \n",
    "print(dist)      "
   ]
  },
  {
   "cell_type": "code",
   "execution_count": null,
   "id": "ec5557a1-ce30-4fc5-ba22-f8954890a256",
   "metadata": {},
   "outputs": [],
   "source": []
  }
 ],
 "metadata": {
  "kernelspec": {
   "display_name": "Python 3 (ipykernel)",
   "language": "python",
   "name": "python3"
  },
  "language_info": {
   "codemirror_mode": {
    "name": "ipython",
    "version": 3
   },
   "file_extension": ".py",
   "mimetype": "text/x-python",
   "name": "python",
   "nbconvert_exporter": "python",
   "pygments_lexer": "ipython3",
   "version": "3.11.5"
  }
 },
 "nbformat": 4,
 "nbformat_minor": 5
}
