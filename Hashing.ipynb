{
 "cells": [
  {
   "cell_type": "code",
   "execution_count": 1,
   "id": "ba567111-3f3a-4706-973b-a4225e92ba74",
   "metadata": {
    "tags": []
   },
   "outputs": [
    {
     "name": "stdout",
     "output_type": "stream",
     "text": [
      "[10, 100, 22, 50, 92, 79, 56, 47, False, 99]\n"
     ]
    }
   ],
   "source": [
    "#hashing technique\n",
    "input_list=[22,10,47,56,100,50,92,99,79]\n",
    "hash_list=[False]*10\n",
    "for i in input_list:\n",
    "    h_k=i%10\n",
    "    if hash_list[h_k]==False:\n",
    "        hash_list[h_k]=i\n",
    "    else:\n",
    "        for j in range(0,len(hash_list)):\n",
    "            h1_k=(h_k+j)%10\n",
    "            if hash_list[h1_k]==False:\n",
    "                hash_list[h1_k]=i\n",
    "                break\n",
    "            \n",
    "print(hash_list)"
   ]
  },
  {
   "cell_type": "code",
   "execution_count": 2,
   "id": "d52e2973-b643-456e-b7a6-f536be37689b",
   "metadata": {
    "tags": []
   },
   "outputs": [
    {
     "name": "stdout",
     "output_type": "stream",
     "text": [
      "10 100 20 \n",
      "62 72 \n",
      "16 86 76 \n",
      "7 \n",
      "99 \n"
     ]
    }
   ],
   "source": [
    "#hashing (Chaning method)\n",
    "class node:\n",
    "    def __init__(self,data):\n",
    "        self.data=data\n",
    "        self.next=None\n",
    "\n",
    "input_list=[10,16,62,100,20,86,72,7,76,99]\n",
    "head_list=[None]*10\n",
    "for i in input_list:\n",
    "    reminder=i%10\n",
    "    if head_list[reminder]==None:\n",
    "        head_list[reminder]=node(i)\n",
    "        \n",
    "    else:\n",
    "        head=head_list[reminder]\n",
    "        while head.next:\n",
    "            head=head.next\n",
    "        head.next=node(i)\n",
    "        \n",
    "for i in head_list:\n",
    "    if i!=None:\n",
    "        print(i.data,end=\" \")\n",
    "        while i.next:\n",
    "            i=i.next\n",
    "            print(i.data,end=\" \")\n",
    "        print()"
   ]
  },
  {
   "cell_type": "code",
   "execution_count": 3,
   "id": "0b973cf5-0e06-4811-ae5b-682635d947f9",
   "metadata": {
    "tags": []
   },
   "outputs": [
    {
     "name": "stdout",
     "output_type": "stream",
     "text": [
      "[81, 34, 46, 56, 45, 104, 70, 37, 39, 20, 99]\n"
     ]
    }
   ],
   "source": [
    "#double hashing technique\n",
    "\n",
    "input_list=[20,34,45,70,56,81,104,37,46,39,99]\n",
    "hash_list=[False]*11\n",
    "#print(hash_list)\n",
    "for i in input_list:\n",
    "    h1_k=i%11\n",
    "    h2_k=8-(i%8)\n",
    "    for j in range(0,11):\n",
    "        h_k=(h1_k+(j*h2_k))%11\n",
    "        if hash_list[h_k]==False:\n",
    "            hash_list[h_k]=i\n",
    "            break\n",
    "print(hash_list)\n",
    "\n"
   ]
  },
  {
   "cell_type": "code",
   "execution_count": null,
   "id": "bcf7b3ab-6d92-4ea3-b38f-44bfb1b37e27",
   "metadata": {},
   "outputs": [],
   "source": []
  }
 ],
 "metadata": {
  "kernelspec": {
   "display_name": "Python 3 (ipykernel)",
   "language": "python",
   "name": "python3"
  },
  "language_info": {
   "codemirror_mode": {
    "name": "ipython",
    "version": 3
   },
   "file_extension": ".py",
   "mimetype": "text/x-python",
   "name": "python",
   "nbconvert_exporter": "python",
   "pygments_lexer": "ipython3",
   "version": "3.11.5"
  }
 },
 "nbformat": 4,
 "nbformat_minor": 5
}
